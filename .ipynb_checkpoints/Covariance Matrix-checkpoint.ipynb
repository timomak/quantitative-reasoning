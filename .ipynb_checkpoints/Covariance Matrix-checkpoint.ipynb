{
 "cells": [
  {
   "cell_type": "markdown",
   "metadata": {},
   "source": [
    "# Covariance Matrix\n",
    "[MakeSchool HW](https://github.com/Make-School-Courses/QL-1.1-Quantitative-Reasoning/blob/master/Assignments/HW1.ipynb)\n",
    "\n",
    "\n",
    "[Github Repo](https://github.com/Make-School-Courses/QL-1.1-Quantitative-Reasoning)"
   ]
  },
  {
   "cell_type": "markdown",
   "metadata": {},
   "source": [
    "# Starbucks Graphs"
   ]
  },
  {
   "cell_type": "code",
   "execution_count": 9,
   "metadata": {},
   "outputs": [
    {
     "data": {
      "text/plain": [
       "Calories                     10580.859041\n",
       "Trans Fat (g)                    2.690448\n",
       "Saturated Fat (g)                0.005095\n",
       " Sodium (mg)                    74.481328\n",
       " Total Carbohydrates (g)      6773.820582\n",
       "Cholesterol (mg)               432.439765\n",
       " Dietary Fibre (g)               2.090755\n",
       "Sugars                         389.280769\n",
       " Protein (g)                    23.733063\n",
       "dtype: float64"
      ]
     },
     "execution_count": 9,
     "metadata": {},
     "output_type": "execute_result"
    }
   ],
   "source": [
    "df = pd.read_csv('starbucks_drinkMenu_expanded.csv').fillna(0)\n",
    "df.var()"
   ]
  },
  {
   "cell_type": "code",
   "execution_count": 6,
   "metadata": {},
   "outputs": [
    {
     "data": {
      "text/html": [
       "<div>\n",
       "<style scoped>\n",
       "    .dataframe tbody tr th:only-of-type {\n",
       "        vertical-align: middle;\n",
       "    }\n",
       "\n",
       "    .dataframe tbody tr th {\n",
       "        vertical-align: top;\n",
       "    }\n",
       "\n",
       "    .dataframe thead th {\n",
       "        text-align: right;\n",
       "    }\n",
       "</style>\n",
       "<table border=\"1\" class=\"dataframe\">\n",
       "  <thead>\n",
       "    <tr style=\"text-align: right;\">\n",
       "      <th></th>\n",
       "      <th>Calories</th>\n",
       "      <th>Trans Fat (g)</th>\n",
       "      <th>Saturated Fat (g)</th>\n",
       "      <th>Sodium (mg)</th>\n",
       "      <th>Total Carbohydrates (g)</th>\n",
       "      <th>Cholesterol (mg)</th>\n",
       "      <th>Dietary Fibre (g)</th>\n",
       "      <th>Sugars</th>\n",
       "      <th>Protein (g)</th>\n",
       "    </tr>\n",
       "  </thead>\n",
       "  <tbody>\n",
       "    <tr>\n",
       "      <th>count</th>\n",
       "      <td>242.000000</td>\n",
       "      <td>242.000000</td>\n",
       "      <td>242.000000</td>\n",
       "      <td>242.000000</td>\n",
       "      <td>242.000000</td>\n",
       "      <td>242.000000</td>\n",
       "      <td>242.000000</td>\n",
       "      <td>242.000000</td>\n",
       "      <td>242.000000</td>\n",
       "    </tr>\n",
       "    <tr>\n",
       "      <th>mean</th>\n",
       "      <td>193.871901</td>\n",
       "      <td>1.307025</td>\n",
       "      <td>0.037603</td>\n",
       "      <td>6.363636</td>\n",
       "      <td>128.884298</td>\n",
       "      <td>35.991736</td>\n",
       "      <td>0.805785</td>\n",
       "      <td>32.962810</td>\n",
       "      <td>6.978512</td>\n",
       "    </tr>\n",
       "    <tr>\n",
       "      <th>std</th>\n",
       "      <td>102.863303</td>\n",
       "      <td>1.640259</td>\n",
       "      <td>0.071377</td>\n",
       "      <td>8.630257</td>\n",
       "      <td>82.303223</td>\n",
       "      <td>20.795186</td>\n",
       "      <td>1.445944</td>\n",
       "      <td>19.730199</td>\n",
       "      <td>4.871659</td>\n",
       "    </tr>\n",
       "    <tr>\n",
       "      <th>min</th>\n",
       "      <td>0.000000</td>\n",
       "      <td>0.000000</td>\n",
       "      <td>0.000000</td>\n",
       "      <td>0.000000</td>\n",
       "      <td>0.000000</td>\n",
       "      <td>0.000000</td>\n",
       "      <td>0.000000</td>\n",
       "      <td>0.000000</td>\n",
       "      <td>0.000000</td>\n",
       "    </tr>\n",
       "    <tr>\n",
       "      <th>25%</th>\n",
       "      <td>120.000000</td>\n",
       "      <td>0.100000</td>\n",
       "      <td>0.000000</td>\n",
       "      <td>0.000000</td>\n",
       "      <td>70.000000</td>\n",
       "      <td>21.000000</td>\n",
       "      <td>0.000000</td>\n",
       "      <td>18.000000</td>\n",
       "      <td>3.000000</td>\n",
       "    </tr>\n",
       "    <tr>\n",
       "      <th>50%</th>\n",
       "      <td>185.000000</td>\n",
       "      <td>0.500000</td>\n",
       "      <td>0.000000</td>\n",
       "      <td>5.000000</td>\n",
       "      <td>125.000000</td>\n",
       "      <td>34.000000</td>\n",
       "      <td>0.000000</td>\n",
       "      <td>32.000000</td>\n",
       "      <td>6.000000</td>\n",
       "    </tr>\n",
       "    <tr>\n",
       "      <th>75%</th>\n",
       "      <td>260.000000</td>\n",
       "      <td>2.000000</td>\n",
       "      <td>0.100000</td>\n",
       "      <td>10.000000</td>\n",
       "      <td>170.000000</td>\n",
       "      <td>50.750000</td>\n",
       "      <td>1.000000</td>\n",
       "      <td>43.750000</td>\n",
       "      <td>10.000000</td>\n",
       "    </tr>\n",
       "    <tr>\n",
       "      <th>max</th>\n",
       "      <td>510.000000</td>\n",
       "      <td>9.000000</td>\n",
       "      <td>0.300000</td>\n",
       "      <td>40.000000</td>\n",
       "      <td>340.000000</td>\n",
       "      <td>90.000000</td>\n",
       "      <td>8.000000</td>\n",
       "      <td>84.000000</td>\n",
       "      <td>20.000000</td>\n",
       "    </tr>\n",
       "  </tbody>\n",
       "</table>\n",
       "</div>"
      ],
      "text/plain": [
       "         Calories  Trans Fat (g)   Saturated Fat (g)   Sodium (mg)  \\\n",
       "count  242.000000      242.000000         242.000000    242.000000   \n",
       "mean   193.871901        1.307025           0.037603      6.363636   \n",
       "std    102.863303        1.640259           0.071377      8.630257   \n",
       "min      0.000000        0.000000           0.000000      0.000000   \n",
       "25%    120.000000        0.100000           0.000000      0.000000   \n",
       "50%    185.000000        0.500000           0.000000      5.000000   \n",
       "75%    260.000000        2.000000           0.100000     10.000000   \n",
       "max    510.000000        9.000000           0.300000     40.000000   \n",
       "\n",
       "        Total Carbohydrates (g)   Cholesterol (mg)   Dietary Fibre (g)  \\\n",
       "count                 242.000000        242.000000          242.000000   \n",
       "mean                  128.884298         35.991736            0.805785   \n",
       "std                    82.303223         20.795186            1.445944   \n",
       "min                     0.000000          0.000000            0.000000   \n",
       "25%                    70.000000         21.000000            0.000000   \n",
       "50%                   125.000000         34.000000            0.000000   \n",
       "75%                   170.000000         50.750000            1.000000   \n",
       "max                   340.000000         90.000000            8.000000   \n",
       "\n",
       "           Sugars   Protein (g)   \n",
       "count  242.000000     242.000000  \n",
       "mean    32.962810       6.978512  \n",
       "std     19.730199       4.871659  \n",
       "min      0.000000       0.000000  \n",
       "25%     18.000000       3.000000  \n",
       "50%     32.000000       6.000000  \n",
       "75%     43.750000      10.000000  \n",
       "max     84.000000      20.000000  "
      ]
     },
     "execution_count": 6,
     "metadata": {},
     "output_type": "execute_result"
    }
   ],
   "source": [
    "df.describe()"
   ]
  },
  {
   "cell_type": "code",
   "execution_count": 7,
   "metadata": {},
   "outputs": [
    {
     "data": {
      "text/plain": [
       "array([[<matplotlib.axes._subplots.AxesSubplot object at 0x1199ba210>]],\n",
       "      dtype=object)"
      ]
     },
     "execution_count": 7,
     "metadata": {},
     "output_type": "execute_result"
    },
    {
     "data": {
      "image/png": "[encoded data removed]",
      "text/plain": [
       "<Figure size 432x288 with 1 Axes>"
      ]
     },
     "metadata": {
      "needs_background": "light"
     },
     "output_type": "display_data"
    },
    {
     "data": {
      "image/png": "[encoded data removed]",
      "text/plain": [
       "<Figure size 432x288 with 1 Axes>"
      ]
     },
     "metadata": {
      "needs_background": "light"
     },
     "output_type": "display_data"
    }
   ],
   "source": [
    "df.hist('Calories')\n",
    "df.hist('Sugars')"
   ]
  },
  {
   "cell_type": "markdown",
   "metadata": {},
   "source": [
    "### Covariance"
   ]
  },
  {
   "cell_type": "code",
   "execution_count": 10,
   "metadata": {},
   "outputs": [],
   "source": [
    "def covariance(a,b):\n",
    "    if len(a) != len(b):\n",
    "        return\n",
    "\n",
    "    a_mean = np.mean(a)\n",
    "    b_mean = np.mean(b)\n",
    "\n",
    "    sum = 0\n",
    "\n",
    "    for i in range(0, len(a)):\n",
    "        sum += ((a[i] - a_mean) * (b[i] - b_mean))\n",
    "\n",
    "    return sum/(len(a)-1)"
   ]
  },
  {
   "cell_type": "markdown",
   "metadata": {},
   "source": [
    "**How does the amount of sugar relate to the amount of calories?**"
   ]
  },
  {
   "cell_type": "code",
   "execution_count": 14,
   "metadata": {},
   "outputs": [
    {
     "name": "stdout",
     "output_type": "stream",
     "text": [
      "('Covariance between the amount of sugar and the calorie count: ', 1846.198535715509)\n",
      "('numpy cov value: ', 1846.198535715509)\n"
     ]
    }
   ],
   "source": [
    "calories = df[\"Calories\"]\n",
    "sugar = df[\"Sugars\"]\n",
    "\n",
    "print(\"Covariance between the amount of sugar and the calorie count: \", covariance(calories, sugar))\n",
    "print(\"numpy cov value: \", np.cov(calories, sugar)[0][1])"
   ]
  }
 ],
 "metadata": {
  "kernelspec": {
   "display_name": "Python 2",
   "language": "python",
   "name": "python2"
  },
  "language_info": {
   "codemirror_mode": {
    "name": "ipython",
    "version": 2
   },
   "file_extension": ".py",
   "mimetype": "text/x-python",
   "name": "python",
   "nbconvert_exporter": "python",
   "pygments_lexer": "ipython2",
   "version": "2.7.15"
  }
 },
 "nbformat": 4,
 "nbformat_minor": 2
}
