{
 "cells": [
  {
   "cell_type": "markdown",
   "metadata": {},
   "source": [
    "# Titanic data set"
   ]
  },
  {
   "cell_type": "code",
   "execution_count": 2,
   "metadata": {},
   "outputs": [
    {
     "data": {
      "text/html": [
       "<div>\n",
       "<style scoped>\n",
       "    .dataframe tbody tr th:only-of-type {\n",
       "        vertical-align: middle;\n",
       "    }\n",
       "\n",
       "    .dataframe tbody tr th {\n",
       "        vertical-align: top;\n",
       "    }\n",
       "\n",
       "    .dataframe thead th {\n",
       "        text-align: right;\n",
       "    }\n",
       "</style>\n",
       "<table border=\"1\" class=\"dataframe\">\n",
       "  <thead>\n",
       "    <tr style=\"text-align: right;\">\n",
       "      <th></th>\n",
       "      <th>PassengerId</th>\n",
       "      <th>Survived</th>\n",
       "      <th>Pclass</th>\n",
       "      <th>Name</th>\n",
       "      <th>Sex</th>\n",
       "      <th>Age</th>\n",
       "      <th>SibSp</th>\n",
       "      <th>Parch</th>\n",
       "      <th>Ticket</th>\n",
       "      <th>Fare</th>\n",
       "      <th>Cabin</th>\n",
       "      <th>Embarked</th>\n",
       "    </tr>\n",
       "  </thead>\n",
       "  <tbody>\n",
       "    <tr>\n",
       "      <th>0</th>\n",
       "      <td>1</td>\n",
       "      <td>0</td>\n",
       "      <td>3</td>\n",
       "      <td>Braund, Mr. Owen Harris</td>\n",
       "      <td>male</td>\n",
       "      <td>22.0</td>\n",
       "      <td>1</td>\n",
       "      <td>0</td>\n",
       "      <td>A/5 21171</td>\n",
       "      <td>7.2500</td>\n",
       "      <td>NaN</td>\n",
       "      <td>S</td>\n",
       "    </tr>\n",
       "    <tr>\n",
       "      <th>1</th>\n",
       "      <td>2</td>\n",
       "      <td>1</td>\n",
       "      <td>1</td>\n",
       "      <td>Cumings, Mrs. John Bradley (Florence Briggs Th...</td>\n",
       "      <td>female</td>\n",
       "      <td>38.0</td>\n",
       "      <td>1</td>\n",
       "      <td>0</td>\n",
       "      <td>PC 17599</td>\n",
       "      <td>71.2833</td>\n",
       "      <td>C85</td>\n",
       "      <td>C</td>\n",
       "    </tr>\n",
       "    <tr>\n",
       "      <th>2</th>\n",
       "      <td>3</td>\n",
       "      <td>1</td>\n",
       "      <td>3</td>\n",
       "      <td>Heikkinen, Miss. Laina</td>\n",
       "      <td>female</td>\n",
       "      <td>26.0</td>\n",
       "      <td>0</td>\n",
       "      <td>0</td>\n",
       "      <td>STON/O2. 3101282</td>\n",
       "      <td>7.9250</td>\n",
       "      <td>NaN</td>\n",
       "      <td>S</td>\n",
       "    </tr>\n",
       "    <tr>\n",
       "      <th>3</th>\n",
       "      <td>4</td>\n",
       "      <td>1</td>\n",
       "      <td>1</td>\n",
       "      <td>Futrelle, Mrs. Jacques Heath (Lily May Peel)</td>\n",
       "      <td>female</td>\n",
       "      <td>35.0</td>\n",
       "      <td>1</td>\n",
       "      <td>0</td>\n",
       "      <td>113803</td>\n",
       "      <td>53.1000</td>\n",
       "      <td>C123</td>\n",
       "      <td>S</td>\n",
       "    </tr>\n",
       "    <tr>\n",
       "      <th>4</th>\n",
       "      <td>5</td>\n",
       "      <td>0</td>\n",
       "      <td>3</td>\n",
       "      <td>Allen, Mr. William Henry</td>\n",
       "      <td>male</td>\n",
       "      <td>35.0</td>\n",
       "      <td>0</td>\n",
       "      <td>0</td>\n",
       "      <td>373450</td>\n",
       "      <td>8.0500</td>\n",
       "      <td>NaN</td>\n",
       "      <td>S</td>\n",
       "    </tr>\n",
       "  </tbody>\n",
       "</table>\n",
       "</div>"
      ],
      "text/plain": [
       "   PassengerId  Survived  Pclass  \\\n",
       "0            1         0       3   \n",
       "1            2         1       1   \n",
       "2            3         1       3   \n",
       "3            4         1       1   \n",
       "4            5         0       3   \n",
       "\n",
       "                                                Name     Sex   Age  SibSp  \\\n",
       "0                            Braund, Mr. Owen Harris    male  22.0      1   \n",
       "1  Cumings, Mrs. John Bradley (Florence Briggs Th...  female  38.0      1   \n",
       "2                             Heikkinen, Miss. Laina  female  26.0      0   \n",
       "3       Futrelle, Mrs. Jacques Heath (Lily May Peel)  female  35.0      1   \n",
       "4                           Allen, Mr. William Henry    male  35.0      0   \n",
       "\n",
       "   Parch            Ticket     Fare Cabin Embarked  \n",
       "0      0         A/5 21171   7.2500   NaN        S  \n",
       "1      0          PC 17599  71.2833   C85        C  \n",
       "2      0  STON/O2. 3101282   7.9250   NaN        S  \n",
       "3      0            113803  53.1000  C123        S  \n",
       "4      0            373450   8.0500   NaN        S  "
      ]
     },
     "execution_count": 2,
     "metadata": {},
     "output_type": "execute_result"
    }
   ],
   "source": [
    "# Starter code:\n",
    "import pandas as pd \n",
    "\n",
    "# read in the CSV\n",
    "df = pd.read_csv('titanic.csv')\n",
    "df.head()"
   ]
  },
  {
   "cell_type": "markdown",
   "metadata": {},
   "source": [
    "## Plot the Histogram of Age for Titanic Dataset"
   ]
  },
  {
   "cell_type": "code",
   "execution_count": 9,
   "metadata": {},
   "outputs": [
    {
     "data": {
      "text/plain": [
       "<matplotlib.axes._subplots.AxesSubplot at 0x121be58d0>"
      ]
     },
     "execution_count": 9,
     "metadata": {},
     "output_type": "execute_result"
    },
    {
     "data": {
      "image/png": "[encoded data removed]",
      "text/plain": [
       "<Figure size 432x288 with 1 Axes>"
      ]
     },
     "metadata": {
      "needs_background": "light"
     },
     "output_type": "display_data"
    }
   ],
   "source": [
    "import seaborn as sns\n",
    "ls_age = df['Age'].dropna()\n",
    "sns.distplot(ls_age, hist=True, kde=False, bins=16)"
   ]
  },
  {
   "cell_type": "markdown",
   "metadata": {},
   "source": [
    "**kde = true**"
   ]
  },
  {
   "cell_type": "code",
   "execution_count": 11,
   "metadata": {},
   "outputs": [
    {
     "data": {
      "text/plain": [
       "<matplotlib.axes._subplots.AxesSubplot at 0x1221b8cd0>"
      ]
     },
     "execution_count": 11,
     "metadata": {},
     "output_type": "execute_result"
    },
    {
     "data": {
      "image/png": "[encoded data removed]",
      "text/plain": [
       "<Figure size 432x288 with 1 Axes>"
      ]
     },
     "metadata": {
      "needs_background": "light"
     },
     "output_type": "display_data"
    }
   ],
   "source": [
    "import seaborn as sns\n",
    "sns.distplot(df['Age'].dropna(), hist=True, kde=True, bins=16)"
   ]
  },
  {
   "cell_type": "markdown",
   "metadata": {},
   "source": [
    "# What percent of passengers are younger than 40?"
   ]
  },
  {
   "cell_type": "code",
   "execution_count": 29,
   "metadata": {},
   "outputs": [
    {
     "name": "stdout",
     "output_type": "stream",
     "text": [
      "(314, 891)\n"
     ]
    },
    {
     "data": {
      "text/plain": [
       "0.35241301907968575"
      ]
     },
     "execution_count": 29,
     "metadata": {},
     "output_type": "execute_result"
    }
   ],
   "source": [
    "How_many_females = df[df['Sex'] == \"female\"]\n",
    "female_percentage = float(len(How_many_females)) / float(len(df['Sex'].dropna()))\n",
    "print(len(How_many_females), len(df['Sex'].dropna()))\n",
    "female_percentage"
   ]
  },
  {
   "cell_type": "markdown",
   "metadata": {},
   "source": [
    "# Playing with the data\n"
   ]
  },
  {
   "cell_type": "code",
   "execution_count": 12,
   "metadata": {},
   "outputs": [
    {
     "data": {
      "text/html": [
       "<div>\n",
       "<style scoped>\n",
       "    .dataframe tbody tr th:only-of-type {\n",
       "        vertical-align: middle;\n",
       "    }\n",
       "\n",
       "    .dataframe tbody tr th {\n",
       "        vertical-align: top;\n",
       "    }\n",
       "\n",
       "    .dataframe thead th {\n",
       "        text-align: right;\n",
       "    }\n",
       "</style>\n",
       "<table border=\"1\" class=\"dataframe\">\n",
       "  <thead>\n",
       "    <tr style=\"text-align: right;\">\n",
       "      <th></th>\n",
       "      <th>PassengerId</th>\n",
       "      <th>Survived</th>\n",
       "      <th>Pclass</th>\n",
       "      <th>Age</th>\n",
       "      <th>SibSp</th>\n",
       "      <th>Parch</th>\n",
       "      <th>Fare</th>\n",
       "    </tr>\n",
       "  </thead>\n",
       "  <tbody>\n",
       "    <tr>\n",
       "      <th>count</th>\n",
       "      <td>891.000000</td>\n",
       "      <td>891.000000</td>\n",
       "      <td>891.000000</td>\n",
       "      <td>714.000000</td>\n",
       "      <td>891.000000</td>\n",
       "      <td>891.000000</td>\n",
       "      <td>891.000000</td>\n",
       "    </tr>\n",
       "    <tr>\n",
       "      <th>mean</th>\n",
       "      <td>446.000000</td>\n",
       "      <td>0.383838</td>\n",
       "      <td>2.308642</td>\n",
       "      <td>29.699118</td>\n",
       "      <td>0.523008</td>\n",
       "      <td>0.381594</td>\n",
       "      <td>32.204208</td>\n",
       "    </tr>\n",
       "    <tr>\n",
       "      <th>std</th>\n",
       "      <td>257.353842</td>\n",
       "      <td>0.486592</td>\n",
       "      <td>0.836071</td>\n",
       "      <td>14.526497</td>\n",
       "      <td>1.102743</td>\n",
       "      <td>0.806057</td>\n",
       "      <td>49.693429</td>\n",
       "    </tr>\n",
       "    <tr>\n",
       "      <th>min</th>\n",
       "      <td>1.000000</td>\n",
       "      <td>0.000000</td>\n",
       "      <td>1.000000</td>\n",
       "      <td>0.420000</td>\n",
       "      <td>0.000000</td>\n",
       "      <td>0.000000</td>\n",
       "      <td>0.000000</td>\n",
       "    </tr>\n",
       "    <tr>\n",
       "      <th>25%</th>\n",
       "      <td>223.500000</td>\n",
       "      <td>0.000000</td>\n",
       "      <td>2.000000</td>\n",
       "      <td>20.125000</td>\n",
       "      <td>0.000000</td>\n",
       "      <td>0.000000</td>\n",
       "      <td>7.910400</td>\n",
       "    </tr>\n",
       "    <tr>\n",
       "      <th>50%</th>\n",
       "      <td>446.000000</td>\n",
       "      <td>0.000000</td>\n",
       "      <td>3.000000</td>\n",
       "      <td>28.000000</td>\n",
       "      <td>0.000000</td>\n",
       "      <td>0.000000</td>\n",
       "      <td>14.454200</td>\n",
       "    </tr>\n",
       "    <tr>\n",
       "      <th>75%</th>\n",
       "      <td>668.500000</td>\n",
       "      <td>1.000000</td>\n",
       "      <td>3.000000</td>\n",
       "      <td>38.000000</td>\n",
       "      <td>1.000000</td>\n",
       "      <td>0.000000</td>\n",
       "      <td>31.000000</td>\n",
       "    </tr>\n",
       "    <tr>\n",
       "      <th>max</th>\n",
       "      <td>891.000000</td>\n",
       "      <td>1.000000</td>\n",
       "      <td>3.000000</td>\n",
       "      <td>80.000000</td>\n",
       "      <td>8.000000</td>\n",
       "      <td>6.000000</td>\n",
       "      <td>512.329200</td>\n",
       "    </tr>\n",
       "  </tbody>\n",
       "</table>\n",
       "</div>"
      ],
      "text/plain": [
       "       PassengerId    Survived      Pclass         Age       SibSp  \\\n",
       "count   891.000000  891.000000  891.000000  714.000000  891.000000   \n",
       "mean    446.000000    0.383838    2.308642   29.699118    0.523008   \n",
       "std     257.353842    0.486592    0.836071   14.526497    1.102743   \n",
       "min       1.000000    0.000000    1.000000    0.420000    0.000000   \n",
       "25%     223.500000    0.000000    2.000000   20.125000    0.000000   \n",
       "50%     446.000000    0.000000    3.000000   28.000000    0.000000   \n",
       "75%     668.500000    1.000000    3.000000   38.000000    1.000000   \n",
       "max     891.000000    1.000000    3.000000   80.000000    8.000000   \n",
       "\n",
       "            Parch        Fare  \n",
       "count  891.000000  891.000000  \n",
       "mean     0.381594   32.204208  \n",
       "std      0.806057   49.693429  \n",
       "min      0.000000    0.000000  \n",
       "25%      0.000000    7.910400  \n",
       "50%      0.000000   14.454200  \n",
       "75%      0.000000   31.000000  \n",
       "max      6.000000  512.329200  "
      ]
     },
     "execution_count": 12,
     "metadata": {},
     "output_type": "execute_result"
    }
   ],
   "source": [
    "df.describe()"
   ]
  },
  {
   "cell_type": "code",
   "execution_count": 13,
   "metadata": {},
   "outputs": [
    {
     "data": {
      "text/plain": [
       "array([[<matplotlib.axes._subplots.AxesSubplot object at 0x116c16a50>]],\n",
       "      dtype=object)"
      ]
     },
     "execution_count": 13,
     "metadata": {},
     "output_type": "execute_result"
    },
    {
     "data": {
      "image/png": "[encoded data removed]",
      "text/plain": [
       "<Figure size 432x288 with 1 Axes>"
      ]
     },
     "metadata": {
      "needs_background": "light"
     },
     "output_type": "display_data"
    }
   ],
   "source": [
    "df.hist(column=\"Age\")"
   ]
  },
  {
   "cell_type": "code",
   "execution_count": 15,
   "metadata": {},
   "outputs": [
    {
     "data": {
      "text/plain": [
       "PassengerId                            891\n",
       "Survived                                 1\n",
       "Pclass                                   3\n",
       "Name           van Melkebeke, Mr. Philemon\n",
       "Sex                                   male\n",
       "Age                                     80\n",
       "SibSp                                    8\n",
       "Parch                                    6\n",
       "Ticket                           WE/P 5735\n",
       "Fare                               512.329\n",
       "Cabin                                    T\n",
       "Embarked                                 S\n",
       "dtype: object"
      ]
     },
     "execution_count": 15,
     "metadata": {},
     "output_type": "execute_result"
    }
   ],
   "source": [
    "df.max(axis=0)"
   ]
  },
  {
   "cell_type": "code",
   "execution_count": 16,
   "metadata": {},
   "outputs": [
    {
     "data": {
      "text/plain": [
       "PassengerId                            891\n",
       "Survived                                 1\n",
       "Pclass                                   3\n",
       "Name           van Melkebeke, Mr. Philemon\n",
       "Sex                                   male\n",
       "Age                                     80\n",
       "SibSp                                    8\n",
       "Parch                                    6\n",
       "Ticket                           WE/P 5735\n",
       "Fare                               512.329\n",
       "Cabin                                    T\n",
       "Embarked                                 S\n",
       "dtype: object"
      ]
     },
     "execution_count": 16,
     "metadata": {},
     "output_type": "execute_result"
    }
   ],
   "source": [
    "df.max(axis=0)"
   ]
  },
  {
   "cell_type": "code",
   "execution_count": 17,
   "metadata": {},
   "outputs": [
    {
     "ename": "KeyError",
     "evalue": "'Value'",
     "output_type": "error",
     "traceback": [
      "\u001b[0;31m---------------------------------------------------------------------------\u001b[0m",
      "\u001b[0;31mKeyError\u001b[0m                                  Traceback (most recent call last)",
      "\u001b[0;32m<ipython-input-17-f202b50a3b0c>\u001b[0m in \u001b[0;36m<module>\u001b[0;34m()\u001b[0m\n\u001b[0;32m----> 1\u001b[0;31m \u001b[0mdf\u001b[0m\u001b[0;34m[\u001b[0m\u001b[0mdf\u001b[0m\u001b[0;34m[\u001b[0m\u001b[0;34m'Value'\u001b[0m\u001b[0;34m]\u001b[0m\u001b[0;34m==\u001b[0m\u001b[0mdf\u001b[0m\u001b[0;34m[\u001b[0m\u001b[0;34m'Value'\u001b[0m\u001b[0;34m]\u001b[0m\u001b[0;34m.\u001b[0m\u001b[0mmax\u001b[0m\u001b[0;34m(\u001b[0m\u001b[0;34m)\u001b[0m\u001b[0;34m]\u001b[0m\u001b[0;34m\u001b[0m\u001b[0m\n\u001b[0m",
      "\u001b[0;32m/usr/local/lib/python2.7/site-packages/pandas/core/frame.pyc\u001b[0m in \u001b[0;36m__getitem__\u001b[0;34m(self, key)\u001b[0m\n\u001b[1;32m   2925\u001b[0m             \u001b[0;32mif\u001b[0m \u001b[0mself\u001b[0m\u001b[0;34m.\u001b[0m\u001b[0mcolumns\u001b[0m\u001b[0;34m.\u001b[0m\u001b[0mnlevels\u001b[0m \u001b[0;34m>\u001b[0m \u001b[0;36m1\u001b[0m\u001b[0;34m:\u001b[0m\u001b[0;34m\u001b[0m\u001b[0m\n\u001b[1;32m   2926\u001b[0m                 \u001b[0;32mreturn\u001b[0m \u001b[0mself\u001b[0m\u001b[0;34m.\u001b[0m\u001b[0m_getitem_multilevel\u001b[0m\u001b[0;34m(\u001b[0m\u001b[0mkey\u001b[0m\u001b[0;34m)\u001b[0m\u001b[0;34m\u001b[0m\u001b[0m\n\u001b[0;32m-> 2927\u001b[0;31m             \u001b[0mindexer\u001b[0m \u001b[0;34m=\u001b[0m \u001b[0mself\u001b[0m\u001b[0;34m.\u001b[0m\u001b[0mcolumns\u001b[0m\u001b[0;34m.\u001b[0m\u001b[0mget_loc\u001b[0m\u001b[0;34m(\u001b[0m\u001b[0mkey\u001b[0m\u001b[0;34m)\u001b[0m\u001b[0;34m\u001b[0m\u001b[0m\n\u001b[0m\u001b[1;32m   2928\u001b[0m             \u001b[0;32mif\u001b[0m \u001b[0mis_integer\u001b[0m\u001b[0;34m(\u001b[0m\u001b[0mindexer\u001b[0m\u001b[0;34m)\u001b[0m\u001b[0;34m:\u001b[0m\u001b[0;34m\u001b[0m\u001b[0m\n\u001b[1;32m   2929\u001b[0m                 \u001b[0mindexer\u001b[0m \u001b[0;34m=\u001b[0m \u001b[0;34m[\u001b[0m\u001b[0mindexer\u001b[0m\u001b[0;34m]\u001b[0m\u001b[0;34m\u001b[0m\u001b[0m\n",
      "\u001b[0;32m/usr/local/lib/python2.7/site-packages/pandas/core/indexes/base.pyc\u001b[0m in \u001b[0;36mget_loc\u001b[0;34m(self, key, method, tolerance)\u001b[0m\n\u001b[1;32m   2657\u001b[0m                 \u001b[0;32mreturn\u001b[0m \u001b[0mself\u001b[0m\u001b[0;34m.\u001b[0m\u001b[0m_engine\u001b[0m\u001b[0;34m.\u001b[0m\u001b[0mget_loc\u001b[0m\u001b[0;34m(\u001b[0m\u001b[0mkey\u001b[0m\u001b[0;34m)\u001b[0m\u001b[0;34m\u001b[0m\u001b[0m\n\u001b[1;32m   2658\u001b[0m             \u001b[0;32mexcept\u001b[0m \u001b[0mKeyError\u001b[0m\u001b[0;34m:\u001b[0m\u001b[0;34m\u001b[0m\u001b[0m\n\u001b[0;32m-> 2659\u001b[0;31m                 \u001b[0;32mreturn\u001b[0m \u001b[0mself\u001b[0m\u001b[0;34m.\u001b[0m\u001b[0m_engine\u001b[0m\u001b[0;34m.\u001b[0m\u001b[0mget_loc\u001b[0m\u001b[0;34m(\u001b[0m\u001b[0mself\u001b[0m\u001b[0;34m.\u001b[0m\u001b[0m_maybe_cast_indexer\u001b[0m\u001b[0;34m(\u001b[0m\u001b[0mkey\u001b[0m\u001b[0;34m)\u001b[0m\u001b[0;34m)\u001b[0m\u001b[0;34m\u001b[0m\u001b[0m\n\u001b[0m\u001b[1;32m   2660\u001b[0m         \u001b[0mindexer\u001b[0m \u001b[0;34m=\u001b[0m \u001b[0mself\u001b[0m\u001b[0;34m.\u001b[0m\u001b[0mget_indexer\u001b[0m\u001b[0;34m(\u001b[0m\u001b[0;34m[\u001b[0m\u001b[0mkey\u001b[0m\u001b[0;34m]\u001b[0m\u001b[0;34m,\u001b[0m \u001b[0mmethod\u001b[0m\u001b[0;34m=\u001b[0m\u001b[0mmethod\u001b[0m\u001b[0;34m,\u001b[0m \u001b[0mtolerance\u001b[0m\u001b[0;34m=\u001b[0m\u001b[0mtolerance\u001b[0m\u001b[0;34m)\u001b[0m\u001b[0;34m\u001b[0m\u001b[0m\n\u001b[1;32m   2661\u001b[0m         \u001b[0;32mif\u001b[0m \u001b[0mindexer\u001b[0m\u001b[0;34m.\u001b[0m\u001b[0mndim\u001b[0m \u001b[0;34m>\u001b[0m \u001b[0;36m1\u001b[0m \u001b[0;32mor\u001b[0m \u001b[0mindexer\u001b[0m\u001b[0;34m.\u001b[0m\u001b[0msize\u001b[0m \u001b[0;34m>\u001b[0m \u001b[0;36m1\u001b[0m\u001b[0;34m:\u001b[0m\u001b[0;34m\u001b[0m\u001b[0m\n",
      "\u001b[0;32mpandas/_libs/index.pyx\u001b[0m in \u001b[0;36mpandas._libs.index.IndexEngine.get_loc\u001b[0;34m()\u001b[0m\n",
      "\u001b[0;32mpandas/_libs/index.pyx\u001b[0m in \u001b[0;36mpandas._libs.index.IndexEngine.get_loc\u001b[0;34m()\u001b[0m\n",
      "\u001b[0;32mpandas/_libs/hashtable_class_helper.pxi\u001b[0m in \u001b[0;36mpandas._libs.hashtable.PyObjectHashTable.get_item\u001b[0;34m()\u001b[0m\n",
      "\u001b[0;32mpandas/_libs/hashtable_class_helper.pxi\u001b[0m in \u001b[0;36mpandas._libs.hashtable.PyObjectHashTable.get_item\u001b[0;34m()\u001b[0m\n",
      "\u001b[0;31mKeyError\u001b[0m: 'Value'"
     ]
    }
   ],
   "source": [
    "df[df['Value']==df['Value'].max()]"
   ]
  },
  {
   "cell_type": "code",
   "execution_count": 10,
   "metadata": {},
   "outputs": [
    {
     "name": "stdout",
     "output_type": "stream",
     "text": [
      "('All count: ', 891, ' children count: ', 83)\n"
     ]
    }
   ],
   "source": [
    "children = df[df['Age'] < 16]\n",
    "print(\"All count: \", len(df[\"Age\"]), \" children count: \", len(children))"
   ]
  },
  {
   "cell_type": "code",
   "execution_count": 7,
   "metadata": {},
   "outputs": [
    {
     "data": {
      "text/plain": [
       "(83, 12)"
      ]
     },
     "execution_count": 7,
     "metadata": {},
     "output_type": "execute_result"
    }
   ],
   "source": [
    "children.shape"
   ]
  },
  {
   "cell_type": "code",
   "execution_count": 8,
   "metadata": {},
   "outputs": [
    {
     "data": {
      "text/plain": [
       "array([[<matplotlib.axes._subplots.AxesSubplot object at 0x11668b450>,\n",
       "        <matplotlib.axes._subplots.AxesSubplot object at 0x116746450>,\n",
       "        <matplotlib.axes._subplots.AxesSubplot object at 0x11677f610>],\n",
       "       [<matplotlib.axes._subplots.AxesSubplot object at 0x1167ba7d0>,\n",
       "        <matplotlib.axes._subplots.AxesSubplot object at 0x1167ef990>,\n",
       "        <matplotlib.axes._subplots.AxesSubplot object at 0x116826b50>],\n",
       "       [<matplotlib.axes._subplots.AxesSubplot object at 0x11685dd10>,\n",
       "        <matplotlib.axes._subplots.AxesSubplot object at 0x116895ed0>,\n",
       "        <matplotlib.axes._subplots.AxesSubplot object at 0x1168d90d0>]],\n",
       "      dtype=object)"
      ]
     },
     "execution_count": 8,
     "metadata": {},
     "output_type": "execute_result"
    }
   ],
   "source": [
    "children.hist()"
   ]
  },
  {
   "cell_type": "code",
   "execution_count": 9,
   "metadata": {},
   "outputs": [
    {
     "data": {
      "text/html": [
       "<div>\n",
       "<style scoped>\n",
       "    .dataframe tbody tr th:only-of-type {\n",
       "        vertical-align: middle;\n",
       "    }\n",
       "\n",
       "    .dataframe tbody tr th {\n",
       "        vertical-align: top;\n",
       "    }\n",
       "\n",
       "    .dataframe thead th {\n",
       "        text-align: right;\n",
       "    }\n",
       "</style>\n",
       "<table border=\"1\" class=\"dataframe\">\n",
       "  <thead>\n",
       "    <tr style=\"text-align: right;\">\n",
       "      <th></th>\n",
       "      <th>PassengerId</th>\n",
       "      <th>Survived</th>\n",
       "      <th>Pclass</th>\n",
       "      <th>Name</th>\n",
       "      <th>Sex</th>\n",
       "      <th>Age</th>\n",
       "      <th>SibSp</th>\n",
       "      <th>Parch</th>\n",
       "      <th>Ticket</th>\n",
       "      <th>Fare</th>\n",
       "      <th>Cabin</th>\n",
       "      <th>Embarked</th>\n",
       "    </tr>\n",
       "  </thead>\n",
       "  <tbody>\n",
       "    <tr>\n",
       "      <th>7</th>\n",
       "      <td>8</td>\n",
       "      <td>0</td>\n",
       "      <td>3</td>\n",
       "      <td>Palsson, Master. Gosta Leonard</td>\n",
       "      <td>male</td>\n",
       "      <td>2.0</td>\n",
       "      <td>3</td>\n",
       "      <td>1</td>\n",
       "      <td>349909</td>\n",
       "      <td>21.0750</td>\n",
       "      <td>NaN</td>\n",
       "      <td>S</td>\n",
       "    </tr>\n",
       "    <tr>\n",
       "      <th>9</th>\n",
       "      <td>10</td>\n",
       "      <td>1</td>\n",
       "      <td>2</td>\n",
       "      <td>Nasser, Mrs. Nicholas (Adele Achem)</td>\n",
       "      <td>female</td>\n",
       "      <td>14.0</td>\n",
       "      <td>1</td>\n",
       "      <td>0</td>\n",
       "      <td>237736</td>\n",
       "      <td>30.0708</td>\n",
       "      <td>NaN</td>\n",
       "      <td>C</td>\n",
       "    </tr>\n",
       "    <tr>\n",
       "      <th>10</th>\n",
       "      <td>11</td>\n",
       "      <td>1</td>\n",
       "      <td>3</td>\n",
       "      <td>Sandstrom, Miss. Marguerite Rut</td>\n",
       "      <td>female</td>\n",
       "      <td>4.0</td>\n",
       "      <td>1</td>\n",
       "      <td>1</td>\n",
       "      <td>PP 9549</td>\n",
       "      <td>16.7000</td>\n",
       "      <td>G6</td>\n",
       "      <td>S</td>\n",
       "    </tr>\n",
       "    <tr>\n",
       "      <th>14</th>\n",
       "      <td>15</td>\n",
       "      <td>0</td>\n",
       "      <td>3</td>\n",
       "      <td>Vestrom, Miss. Hulda Amanda Adolfina</td>\n",
       "      <td>female</td>\n",
       "      <td>14.0</td>\n",
       "      <td>0</td>\n",
       "      <td>0</td>\n",
       "      <td>350406</td>\n",
       "      <td>7.8542</td>\n",
       "      <td>NaN</td>\n",
       "      <td>S</td>\n",
       "    </tr>\n",
       "    <tr>\n",
       "      <th>16</th>\n",
       "      <td>17</td>\n",
       "      <td>0</td>\n",
       "      <td>3</td>\n",
       "      <td>Rice, Master. Eugene</td>\n",
       "      <td>male</td>\n",
       "      <td>2.0</td>\n",
       "      <td>4</td>\n",
       "      <td>1</td>\n",
       "      <td>382652</td>\n",
       "      <td>29.1250</td>\n",
       "      <td>NaN</td>\n",
       "      <td>Q</td>\n",
       "    </tr>\n",
       "  </tbody>\n",
       "</table>\n",
       "</div>"
      ],
      "text/plain": [
       "    PassengerId  Survived  Pclass                                  Name  \\\n",
       "7             8         0       3        Palsson, Master. Gosta Leonard   \n",
       "9            10         1       2   Nasser, Mrs. Nicholas (Adele Achem)   \n",
       "10           11         1       3       Sandstrom, Miss. Marguerite Rut   \n",
       "14           15         0       3  Vestrom, Miss. Hulda Amanda Adolfina   \n",
       "16           17         0       3                  Rice, Master. Eugene   \n",
       "\n",
       "       Sex   Age  SibSp  Parch   Ticket     Fare Cabin Embarked  \n",
       "7     male   2.0      3      1   349909  21.0750   NaN        S  \n",
       "9   female  14.0      1      0   237736  30.0708   NaN        C  \n",
       "10  female   4.0      1      1  PP 9549  16.7000    G6        S  \n",
       "14  female  14.0      0      0   350406   7.8542   NaN        S  \n",
       "16    male   2.0      4      1   382652  29.1250   NaN        Q  "
      ]
     },
     "execution_count": 9,
     "metadata": {},
     "output_type": "execute_result"
    }
   ],
   "source": [
    "children.head()"
   ]
  },
  {
   "cell_type": "markdown",
   "metadata": {},
   "source": [
    "# Challenge 1\n",
    "Describing Age with mean, mode and median"
   ]
  },
  {
   "cell_type": "code",
   "execution_count": 7,
   "metadata": {},
   "outputs": [
    {
     "name": "stdout",
     "output_type": "stream",
     "text": [
      "\n",
      "----------- Calculate Mean -----------\n",
      "\n",
      "PassengerId    446.000000\n",
      "Survived         0.383838\n",
      "Pclass           2.308642\n",
      "Age             29.699118\n",
      "SibSp            0.523008\n",
      "Parch            0.381594\n",
      "Fare            32.204208\n",
      "dtype: float64\n",
      "\n",
      "----------- Calculate Median -----------\n",
      "\n",
      "PassengerId    446.0000\n",
      "Survived         0.0000\n",
      "Pclass           3.0000\n",
      "Age             28.0000\n",
      "SibSp            0.0000\n",
      "Parch            0.0000\n",
      "Fare            14.4542\n",
      "dtype: float64\n",
      "\n",
      "----------- Calculate Mode -----------\n",
      "\n",
      "     PassengerId  Survived  Pclass  \\\n",
      "0              1       0.0     3.0   \n",
      "1              2       NaN     NaN   \n",
      "2              3       NaN     NaN   \n",
      "3              4       NaN     NaN   \n",
      "4              5       NaN     NaN   \n",
      "5              6       NaN     NaN   \n",
      "6              7       NaN     NaN   \n",
      "7              8       NaN     NaN   \n",
      "8              9       NaN     NaN   \n",
      "9             10       NaN     NaN   \n",
      "10            11       NaN     NaN   \n",
      "11            12       NaN     NaN   \n",
      "12            13       NaN     NaN   \n",
      "13            14       NaN     NaN   \n",
      "14            15       NaN     NaN   \n",
      "15            16       NaN     NaN   \n",
      "16            17       NaN     NaN   \n",
      "17            18       NaN     NaN   \n",
      "18            19       NaN     NaN   \n",
      "19            20       NaN     NaN   \n",
      "20            21       NaN     NaN   \n",
      "21            22       NaN     NaN   \n",
      "22            23       NaN     NaN   \n",
      "23            24       NaN     NaN   \n",
      "24            25       NaN     NaN   \n",
      "25            26       NaN     NaN   \n",
      "26            27       NaN     NaN   \n",
      "27            28       NaN     NaN   \n",
      "28            29       NaN     NaN   \n",
      "29            30       NaN     NaN   \n",
      "..           ...       ...     ...   \n",
      "861          862       NaN     NaN   \n",
      "862          863       NaN     NaN   \n",
      "863          864       NaN     NaN   \n",
      "864          865       NaN     NaN   \n",
      "865          866       NaN     NaN   \n",
      "866          867       NaN     NaN   \n",
      "867          868       NaN     NaN   \n",
      "868          869       NaN     NaN   \n",
      "869          870       NaN     NaN   \n",
      "870          871       NaN     NaN   \n",
      "871          872       NaN     NaN   \n",
      "872          873       NaN     NaN   \n",
      "873          874       NaN     NaN   \n",
      "874          875       NaN     NaN   \n",
      "875          876       NaN     NaN   \n",
      "876          877       NaN     NaN   \n",
      "877          878       NaN     NaN   \n",
      "878          879       NaN     NaN   \n",
      "879          880       NaN     NaN   \n",
      "880          881       NaN     NaN   \n",
      "881          882       NaN     NaN   \n",
      "882          883       NaN     NaN   \n",
      "883          884       NaN     NaN   \n",
      "884          885       NaN     NaN   \n",
      "885          886       NaN     NaN   \n",
      "886          887       NaN     NaN   \n",
      "887          888       NaN     NaN   \n",
      "888          889       NaN     NaN   \n",
      "889          890       NaN     NaN   \n",
      "890          891       NaN     NaN   \n",
      "\n",
      "                                                Name   Sex   Age  SibSp  \\\n",
      "0                                Abbing, Mr. Anthony  male  24.0    0.0   \n",
      "1                        Abbott, Mr. Rossmore Edward   NaN   NaN    NaN   \n",
      "2                   Abbott, Mrs. Stanton (Rosa Hunt)   NaN   NaN    NaN   \n",
      "3                                Abelson, Mr. Samuel   NaN   NaN    NaN   \n",
      "4              Abelson, Mrs. Samuel (Hannah Wizosky)   NaN   NaN    NaN   \n",
      "5                     Adahl, Mr. Mauritz Nils Martin   NaN   NaN    NaN   \n",
      "6                                    Adams, Mr. John   NaN   NaN    NaN   \n",
      "7     Ahlin, Mrs. Johan (Johanna Persdotter Larsson)   NaN   NaN    NaN   \n",
      "8                         Aks, Mrs. Sam (Leah Rosen)   NaN   NaN    NaN   \n",
      "9                        Albimona, Mr. Nassef Cassem   NaN   NaN    NaN   \n",
      "10                            Alexander, Mr. William   NaN   NaN    NaN   \n",
      "11                       Alhomaki, Mr. Ilmari Rudolf   NaN   NaN    NaN   \n",
      "12                                    Ali, Mr. Ahmed   NaN   NaN    NaN   \n",
      "13                                  Ali, Mr. William   NaN   NaN    NaN   \n",
      "14                     Allen, Miss. Elisabeth Walton   NaN   NaN    NaN   \n",
      "15                          Allen, Mr. William Henry   NaN   NaN    NaN   \n",
      "16                    Allison, Master. Hudson Trevor   NaN   NaN    NaN   \n",
      "17                      Allison, Miss. Helen Loraine   NaN   NaN    NaN   \n",
      "18   Allison, Mrs. Hudson J C (Bessie Waldo Daniels)   NaN   NaN    NaN   \n",
      "19                            Allum, Mr. Owen George   NaN   NaN    NaN   \n",
      "20   Andersen-Jensen, Miss. Carla Christine Nielsine   NaN   NaN    NaN   \n",
      "21                               Anderson, Mr. Harry   NaN   NaN    NaN   \n",
      "22           Andersson, Master. Sigvard Harald Elias   NaN   NaN    NaN   \n",
      "23                Andersson, Miss. Ebba Iris Alfrida   NaN   NaN    NaN   \n",
      "24                 Andersson, Miss. Ellis Anna Maria   NaN   NaN    NaN   \n",
      "25                   Andersson, Miss. Erna Alexandra   NaN   NaN    NaN   \n",
      "26              Andersson, Miss. Ingeborg Constanzia   NaN   NaN    NaN   \n",
      "27                 Andersson, Miss. Sigrid Elisabeth   NaN   NaN    NaN   \n",
      "28                       Andersson, Mr. Anders Johan   NaN   NaN    NaN   \n",
      "29      Andersson, Mr. August Edvard (\"Wennerstrom\")   NaN   NaN    NaN   \n",
      "..                                               ...   ...   ...    ...   \n",
      "861                 Widegren, Mr. Carl/Charles Peter   NaN   NaN    NaN   \n",
      "862                        Widener, Mr. Harry Elkins   NaN   NaN    NaN   \n",
      "863                        Wiklund, Mr. Jakob Alfred   NaN   NaN    NaN   \n",
      "864                            Wilhelms, Mr. Charles   NaN   NaN    NaN   \n",
      "865                               Willey, Mr. Edward   NaN   NaN    NaN   \n",
      "866                      Williams, Mr. Charles Duane   NaN   NaN    NaN   \n",
      "867                     Williams, Mr. Charles Eugene   NaN   NaN    NaN   \n",
      "868                Williams, Mr. Howard Hugh \"Harry\"   NaN   NaN    NaN   \n",
      "869                             Williams, Mr. Leslie   NaN   NaN    NaN   \n",
      "870           Williams-Lambert, Mr. Fletcher Fellows   NaN   NaN    NaN   \n",
      "871                              Windelov, Mr. Einar   NaN   NaN    NaN   \n",
      "872                           Wiseman, Mr. Phillippe   NaN   NaN    NaN   \n",
      "873                                Woolner, Mr. Hugh   NaN   NaN    NaN   \n",
      "874                               Wright, Mr. George   NaN   NaN    NaN   \n",
      "875                              Yasbeck, Mr. Antoni   NaN   NaN    NaN   \n",
      "876          Yasbeck, Mrs. Antoni (Selini Alexander)   NaN   NaN    NaN   \n",
      "877                         Young, Miss. Marie Grice   NaN   NaN    NaN   \n",
      "878                             Youseff, Mr. Gerious   NaN   NaN    NaN   \n",
      "879                                Yousif, Mr. Wazli   NaN   NaN    NaN   \n",
      "880                            Yousseff, Mr. Gerious   NaN   NaN    NaN   \n",
      "881           Yrois, Miss. Henriette (\"Mrs Harbeck\")   NaN   NaN    NaN   \n",
      "882                             Zabour, Miss. Hileni   NaN   NaN    NaN   \n",
      "883                            Zabour, Miss. Thamine   NaN   NaN    NaN   \n",
      "884                               Zimmerman, Mr. Leo   NaN   NaN    NaN   \n",
      "885     de Messemaeker, Mrs. Guillaume Joseph (Emma)   NaN   NaN    NaN   \n",
      "886                          de Mulder, Mr. Theodore   NaN   NaN    NaN   \n",
      "887                        de Pelsmaeker, Mr. Alfons   NaN   NaN    NaN   \n",
      "888                        del Carlo, Mr. Sebastiano   NaN   NaN    NaN   \n",
      "889                  van Billiard, Mr. Austin Blyler   NaN   NaN    NaN   \n",
      "890                      van Melkebeke, Mr. Philemon   NaN   NaN    NaN   \n",
      "\n",
      "     Parch    Ticket  Fare        Cabin Embarked  \n",
      "0      0.0      1601  8.05      B96 B98        S  \n",
      "1      NaN    347082   NaN  C23 C25 C27      NaN  \n",
      "2      NaN  CA. 2343   NaN           G6      NaN  \n",
      "3      NaN       NaN   NaN          NaN      NaN  \n",
      "4      NaN       NaN   NaN          NaN      NaN  \n",
      "5      NaN       NaN   NaN          NaN      NaN  \n",
      "6      NaN       NaN   NaN          NaN      NaN  \n",
      "7      NaN       NaN   NaN          NaN      NaN  \n",
      "8      NaN       NaN   NaN          NaN      NaN  \n",
      "9      NaN       NaN   NaN          NaN      NaN  \n",
      "10     NaN       NaN   NaN          NaN      NaN  \n",
      "11     NaN       NaN   NaN          NaN      NaN  \n",
      "12     NaN       NaN   NaN          NaN      NaN  \n",
      "13     NaN       NaN   NaN          NaN      NaN  \n",
      "14     NaN       NaN   NaN          NaN      NaN  \n",
      "15     NaN       NaN   NaN          NaN      NaN  \n",
      "16     NaN       NaN   NaN          NaN      NaN  \n",
      "17     NaN       NaN   NaN          NaN      NaN  \n",
      "18     NaN       NaN   NaN          NaN      NaN  \n",
      "19     NaN       NaN   NaN          NaN      NaN  \n",
      "20     NaN       NaN   NaN          NaN      NaN  \n",
      "21     NaN       NaN   NaN          NaN      NaN  \n",
      "22     NaN       NaN   NaN          NaN      NaN  \n",
      "23     NaN       NaN   NaN          NaN      NaN  \n",
      "24     NaN       NaN   NaN          NaN      NaN  \n",
      "25     NaN       NaN   NaN          NaN      NaN  \n",
      "26     NaN       NaN   NaN          NaN      NaN  \n",
      "27     NaN       NaN   NaN          NaN      NaN  \n",
      "28     NaN       NaN   NaN          NaN      NaN  \n",
      "29     NaN       NaN   NaN          NaN      NaN  \n",
      "..     ...       ...   ...          ...      ...  \n",
      "861    NaN       NaN   NaN          NaN      NaN  \n",
      "862    NaN       NaN   NaN          NaN      NaN  \n",
      "863    NaN       NaN   NaN          NaN      NaN  \n",
      "864    NaN       NaN   NaN          NaN      NaN  \n",
      "865    NaN       NaN   NaN          NaN      NaN  \n",
      "866    NaN       NaN   NaN          NaN      NaN  \n",
      "867    NaN       NaN   NaN          NaN      NaN  \n",
      "868    NaN       NaN   NaN          NaN      NaN  \n",
      "869    NaN       NaN   NaN          NaN      NaN  \n",
      "870    NaN       NaN   NaN          NaN      NaN  \n",
      "871    NaN       NaN   NaN          NaN      NaN  \n",
      "872    NaN       NaN   NaN          NaN      NaN  \n",
      "873    NaN       NaN   NaN          NaN      NaN  \n",
      "874    NaN       NaN   NaN          NaN      NaN  \n",
      "875    NaN       NaN   NaN          NaN      NaN  \n",
      "876    NaN       NaN   NaN          NaN      NaN  \n",
      "877    NaN       NaN   NaN          NaN      NaN  \n",
      "878    NaN       NaN   NaN          NaN      NaN  \n",
      "879    NaN       NaN   NaN          NaN      NaN  \n",
      "880    NaN       NaN   NaN          NaN      NaN  \n",
      "881    NaN       NaN   NaN          NaN      NaN  \n",
      "882    NaN       NaN   NaN          NaN      NaN  \n",
      "883    NaN       NaN   NaN          NaN      NaN  \n",
      "884    NaN       NaN   NaN          NaN      NaN  \n",
      "885    NaN       NaN   NaN          NaN      NaN  \n",
      "886    NaN       NaN   NaN          NaN      NaN  \n",
      "887    NaN       NaN   NaN          NaN      NaN  \n",
      "888    NaN       NaN   NaN          NaN      NaN  \n",
      "889    NaN       NaN   NaN          NaN      NaN  \n",
      "890    NaN       NaN   NaN          NaN      NaN  \n",
      "\n",
      "[891 rows x 12 columns]\n"
     ]
    }
   ],
   "source": [
    "\n",
    "print(\"\\n----------- Calculate Mean -----------\\n\")\n",
    "print(df.mean())\n",
    "\n",
    "print(\"\\n----------- Calculate Median -----------\\n\")\n",
    "print(df.median())\n",
    "\n",
    "print(\"\\n----------- Calculate Mode -----------\\n\")\n",
    "print(df.mode())"
   ]
  },
  {
   "cell_type": "markdown",
   "metadata": {},
   "source": [
    "# Challenge 2 | Probability\n",
    "### What rate of the people that survived were female or younger than 16 yo?"
   ]
  },
  {
   "cell_type": "code",
   "execution_count": 8,
   "metadata": {},
   "outputs": [
    {
     "name": "stdout",
     "output_type": "stream",
     "text": [
      "('Female/Child Survival rate on titanic: ', 1    71.751412\n",
      "0    28.248588\n",
      "Name: Survived, dtype: float64)\n"
     ]
    }
   ],
   "source": [
    "women_and_children = df[(df['Sex'] == \"female\") | (df['Age'] < 16)]\n",
    "w_a_c_survival_rate = women_and_children['Survived'].value_counts(normalize=True) * 100\n",
    "print(\"Female/Child Survival rate on titanic: \",w_a_c_survival_rate)"
   ]
  },
  {
   "cell_type": "markdown",
   "metadata": {},
   "source": [
    "### Chance of surviving Titanic"
   ]
  },
  {
   "cell_type": "code",
   "execution_count": 19,
   "metadata": {},
   "outputs": [
    {
     "data": {
      "image/png": "[encoded data removed]",
      "text/plain": [
       "<Figure size 432x288 with 1 Axes>"
      ]
     },
     "metadata": {
      "needs_background": "light"
     },
     "output_type": "display_data"
    }
   ],
   "source": [
    "import matplotlib.pyplot as plt\n",
    "\n",
    "# Child chance of survival\n",
    "children = df[df['Age'] < 16]\n",
    "surviving_children = df[(df['Age'] < 16) & (df['Survived'] == 1)]\n",
    "child_chance_of_survival = surviving_children.shape[0] / children.shape[0]\n",
    "format(child_chance_of_survival, \".0%\")\n",
    "\n",
    "\n",
    "# Woman chance of survival\n",
    "women = df[(df['Sex'] == 'female') & (df['Age'] > 16)]\n",
    "surviving_women = df[(df['Sex'] == 'female') & (df['Age'] > 16) & (df['Survived'] == 1)]\n",
    "women_chance_of_survival = surviving_women.shape[0] / women.shape[0]\n",
    "format(women_chance_of_survival, \".0%\")\n",
    "\n",
    "\n",
    "# Man chance of survival\n",
    "adult_men = df[(df['Sex'].str.match('male')) & (df['Age'] > 16)]\n",
    "a_m_survival_rate = adult_men['Survived'].value_counts(normalize=True) * 100\n",
    "\n",
    "\n",
    "men_chance_of_survival = a_m_survival_rate[1] / 100\n",
    "\n",
    "fig = plt.figure()\n",
    "ax = fig.add_axes([0,0,1,1])\n",
    "x_axis = [\"Children\", \"Women\", \"Men\"]\n",
    "data = [child_chance_of_survival, women_chance_of_survival, men_chance_of_survival]\n",
    "ax.bar(x_axis, data)\n",
    "plt.show()\n"
   ]
  },
  {
   "cell_type": "code",
   "execution_count": null,
   "metadata": {},
   "outputs": [],
   "source": []
  },
  {
   "cell_type": "code",
   "execution_count": null,
   "metadata": {},
   "outputs": [],
   "source": []
  }
 ],
 "metadata": {
  "kernelspec": {
   "display_name": "Python 2",
   "language": "python",
   "name": "python2"
  },
  "language_info": {
   "codemirror_mode": {
    "name": "ipython",
    "version": 2
   },
   "file_extension": ".py",
   "mimetype": "text/x-python",
   "name": "python",
   "nbconvert_exporter": "python",
   "pygments_lexer": "ipython2",
   "version": "2.7.15"
  }
 },
 "nbformat": 4,
 "nbformat_minor": 2
}
