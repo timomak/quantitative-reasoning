{
 "cells": [
  {
   "cell_type": "markdown",
   "metadata": {},
   "source": [
    "# Startup Team Size problem\n",
    "Resource: [Link](https://support.spatialkey.com/spatialkey-sample-csv-data/)"
   ]
  },
  {
   "cell_type": "code",
   "execution_count": 139,
   "metadata": {},
   "outputs": [],
   "source": [
    "# Starter code:\n",
    "import pandas as pd\n",
    "import matplotlib.pyplot as plt\n",
    "import numpy as np\n",
    "\n",
    "from sklearn.linear_model import LinearRegression\n",
    "\n",
    "# # read in the CSV\n",
    "# df = pd.read_csv('funding_data.csv')\n",
    "# df.head()"
   ]
  },
  {
   "cell_type": "markdown",
   "metadata": {},
   "source": [
    "# Team sizes within seed / angel funded companies"
   ]
  },
  {
   "cell_type": "code",
   "execution_count": 106,
   "metadata": {},
   "outputs": [
    {
     "name": "stdout",
     "output_type": "stream",
     "text": [
      "('Column', 0, 'permalink')\n",
      "('Column', 1, 'company')\n",
      "('Column', 2, 'numEmps')\n",
      "('Column', 3, 'category')\n",
      "('Column', 4, 'city')\n",
      "('Column', 5, 'state')\n",
      "('Column', 6, 'fundedDate')\n",
      "('Column', 7, 'raisedAmt')\n",
      "('Column', 8, 'raisedCurrency')\n",
      "('Column', 9, 'round')\n",
      "('companies_with_early_funding:', 263)\n",
      "('Number of all companies witth employees', 539)\n"
     ]
    }
   ],
   "source": [
    "df = pd.DataFrame(df)\n",
    "count = 0\n",
    "for key in df:\n",
    "    print(\"Column\", count,key)\n",
    "    count += 1\n",
    "    \n",
    "df.head()\n",
    "\n",
    "companies_with_early_funding = df.loc[(df[\"round\"] == \"seed\") | (df[\"round\"] == \"angel\")]\n",
    "print(\"companies_with_early_funding:\", len(companies_with_early_funding))\n",
    "\n",
    "data = companies_with_early_funding[companies_with_early_funding['numEmps'] > 0]  \n",
    "print(\"Number of all companies witth employees\", len(number_of_comp_with_employees))"
   ]
  },
  {
   "cell_type": "code",
   "execution_count": 89,
   "metadata": {},
   "outputs": [
    {
     "name": "stdout",
     "output_type": "stream",
     "text": [
      "(62, 60, 28, 1)\n"
     ]
    }
   ],
   "source": [
    "#1-4\n",
    "gr1 = 0\n",
    "#5-15\n",
    "gr2 = 0\n",
    "#16-100\n",
    "gr3 = 0\n",
    "#101-<\n",
    "gr4 = 0\n",
    "\n",
    "# print(data)\n",
    "total = 0\n",
    "\n",
    "for i in range(len(data)):\n",
    "#     print(data.iloc[i, 2])\n",
    "    if data.iloc[i, 2] > 0.00 and data.iloc[i, 2] <= 5.00:\n",
    "        gr1 += 1\n",
    "        total += 1\n",
    "    elif data.iloc[i, 2] > 5.00 and data.iloc[i, 2] <= 15.00:\n",
    "        gr2 += 1 \n",
    "        total += 1\n",
    "    elif data.iloc[i, 2] > 15.00 and data.iloc[i, 2] <= 100.00:\n",
    "        gr3 += 1\n",
    "        total += 1\n",
    "    elif data.iloc[i, 2] > 100.00:\n",
    "        gr4 += 1\n",
    "        total += 1\n",
    "print(gr1,gr2,gr3,gr4)"
   ]
  },
  {
   "cell_type": "code",
   "execution_count": 104,
   "metadata": {},
   "outputs": [
    {
     "data": {
      "image/png": "[encoded data removed]",
      "text/plain": [
       "<Figure size 432x288 with 1 Axes>"
      ]
     },
     "metadata": {},
     "output_type": "display_data"
    },
    {
     "name": "stdout",
     "output_type": "stream",
     "text": [
      "('Employees 1-4', 62)\n",
      "('Employees 5-15', 60)\n",
      "('Employees 16-100', 28)\n",
      "('Employees 101-<', 1)\n",
      "('Total', 151)\n"
     ]
    }
   ],
   "source": [
    "\n",
    "fig1, ax1 = plt.subplots()\n",
    "explode = (0.1, 0, 0, 0)\n",
    "ax1.pie([gr1,gr2,gr3,gr4], labels=['employees 1-4', 'employees 5-15', 'employees 16-100', 'employees <101'], autopct='%1.1f%%',\n",
    "       startangle=90, explode=explode)\n",
    "ax1.axis('equal')  # Equal aspect ratio ensures that pie is drawn as a circle.\n",
    "\n",
    "plt.show()\n",
    "print('Employees 1-4', gr1)\n",
    "print('Employees 5-15', gr2)\n",
    "print('Employees 16-100', gr3)\n",
    "print('Employees 101-<', gr4)\n",
    "print(\"Total\", total)"
   ]
  },
  {
   "cell_type": "markdown",
   "metadata": {},
   "source": [
    "> Above, out of the Angel / Seed investemnets, what sizes were the teams"
   ]
  },
  {
   "cell_type": "markdown",
   "metadata": {},
   "source": [
    "# Team sizes within round A investing\n"
   ]
  },
  {
   "cell_type": "code",
   "execution_count": 125,
   "metadata": {},
   "outputs": [
    {
     "name": "stdout",
     "output_type": "stream",
     "text": [
      "('companies_a_round:', 263)\n"
     ]
    },
    {
     "data": {
      "image/png": "[encoded data removed]",
      "text/plain": [
       "<Figure size 432x288 with 1 Axes>"
      ]
     },
     "metadata": {},
     "output_type": "display_data"
    },
    {
     "name": "stdout",
     "output_type": "stream",
     "text": [
      "('Employees 1-4', 13)\n",
      "('Employees 5-15', 59)\n",
      "('Employees 16-100', 108)\n",
      "('Employees 101-<', 23)\n",
      "('Total', 203)\n"
     ]
    }
   ],
   "source": [
    "# Companies doing round A investment\n",
    "companies_a_round = df.loc[(df[\"round\"] == \"a\")]\n",
    "print(\"companies_a_round:\", len(companies_with_early_funding))\n",
    "\n",
    "# Companies with enough data\n",
    "round_a_not_null = companies_a_round[companies_a_round['numEmps'] > 0]  \n",
    "\n",
    "# COUNT OF EMPLOYEE SIZE BUCKETS\n",
    "#1-4 Emplyees\n",
    "g1 = 0\n",
    "#5-15 Emplyees\n",
    "g2 = 0\n",
    "#16-100 Emplyees\n",
    "g3 = 0\n",
    "#101-< Emplyees\n",
    "g4 = 0\n",
    "\n",
    "# Total Number of employees\n",
    "t = 0\n",
    "\n",
    "# Update bucket counts\n",
    "for i in range(len(round_a_not_null)):\n",
    "    if round_a_not_null.iloc[i, 2] > 0.00 and round_a_not_null.iloc[i, 2] <= 5.00:\n",
    "        g1 += 1\n",
    "        t += 1\n",
    "    elif round_a_not_null.iloc[i, 2] > 5.00 and round_a_not_null.iloc[i, 2] <= 15.00:\n",
    "        g2 += 1 \n",
    "        t += 1\n",
    "    elif round_a_not_null.iloc[i, 2] > 15.00 and round_a_not_null.iloc[i, 2] <= 100.00:\n",
    "        g3 += 1\n",
    "        t += 1\n",
    "    elif round_a_not_null.iloc[i, 2] > 100.00:\n",
    "        g4 += 1\n",
    "        t += 1\n",
    "\n",
    "# SETUP Pie Chart\n",
    "fig2, ax2 = plt.subplots()\n",
    "explode = (0, 0, 0.1, 0)\n",
    "ax2.pie([g1,g2,g3,g4], labels=['employees 1-4', 'employees 5-15', 'employees 16-100', 'employees <101'], autopct='%1.1f%%', startangle=90, explode=explode)\n",
    "ax2.axis('equal')  # Equal aspect ratio ensures that pie is drawn as a circle.\n",
    "\n",
    "plt.show()\n",
    "print('Employees 1-4', g1)\n",
    "print('Employees 5-15', g2)\n",
    "print('Employees 16-100', g3)\n",
    "print('Employees 101-<', g4)\n",
    "print(\"Total\", t)"
   ]
  },
  {
   "cell_type": "markdown",
   "metadata": {},
   "source": [
    "# Team size vs. Funding capital"
   ]
  },
  {
   "cell_type": "code",
   "execution_count": 108,
   "metadata": {},
   "outputs": [
    {
     "data": {
      "text/plain": [
       "array([[<matplotlib.axes._subplots.AxesSubplot object at 0x10de595d0>]],\n",
       "      dtype=object)"
      ]
     },
     "execution_count": 108,
     "metadata": {},
     "output_type": "execute_result"
    },
    {
     "data": {
      "image/png": "[encoded data removed]",
      "text/plain": [
       "<Figure size 432x288 with 1 Axes>"
      ]
     },
     "metadata": {
      "needs_background": "light"
     },
     "output_type": "display_data"
    }
   ],
   "source": [
    "round_a_not_null.hist(column=\"raisedAmt\")"
   ]
  },
  {
   "cell_type": "code",
   "execution_count": 164,
   "metadata": {},
   "outputs": [
    {
     "data": {
      "image/png": "[encoded data removed]",
      "text/plain": [
       "<Figure size 432x288 with 1 Axes>"
      ]
     },
     "metadata": {
      "needs_background": "light"
     },
     "output_type": "display_data"
    }
   ],
   "source": [
    "# Round A\n",
    "\n",
    "# Companies with enough data\n",
    "no_outlier = round_a_not_null[round_a_not_null['numEmps'] < 10000]  \n",
    "\n",
    "\n",
    "team_sizes = []\n",
    "amount_raised = []\n",
    "\n",
    "# slopes = no_outlier.apply(lambda x: np.polyfit(no_outlier.index, x, 1)[0])\n",
    "\n",
    "\n",
    "\n",
    "# Update bucket counts\n",
    "for i in range(len(no_outlier)):\n",
    "    amount_raised.append(no_outlier.iloc[i, 7])\n",
    "    team_sizes.append(no_outlier.iloc[i, 2])\n",
    "\n",
    "# print(team_sizes, amount_raised)\n",
    "    \n",
    "new_data = {\"size\":team_sizes, \"amount\": amount_raised}\n",
    "\n",
    "new_df = pd.DataFrame(new_data, columns=[\"size\", \"amount\"])\n",
    "\n",
    "mean = new_df[\"amount\"].mean()\n",
    "new_df.plot(x=\"amount\", y=\"size\", kind='scatter').axvline(mean, color='r', linestyle='--')\n",
    "\n",
    "\n",
    "x = np.array(amount_raised)\n",
    "m, b = np.polyfit(x, team_sizes, 1)\n",
    "\n",
    "plt.plot(x, m*x + b, color='g')\n",
    "\n",
    "plt.show()"
   ]
  },
  {
   "cell_type": "code",
   "execution_count": 126,
   "metadata": {},
   "outputs": [
    {
     "data": {
      "image/png": "[encoded data removed]",
      "text/plain": [
       "<Figure size 432x288 with 1 Axes>"
      ]
     },
     "metadata": {
      "needs_background": "light"
     },
     "output_type": "display_data"
    }
   ],
   "source": [
    "# Angel & Seed\n",
    "\n",
    "team_sizes = []\n",
    "amount_raised = []\n",
    "\n",
    "# Update bucket counts\n",
    "for i in range(len(data)):\n",
    "    amount_raised.append(data.iloc[i, 7])\n",
    "    team_sizes.append(data.iloc[i, 2])\n",
    "\n",
    "# print(team_sizes, amount_raised)\n",
    "    \n",
    "new_data = {\"size\":team_sizes, \"amount\": amount_raised}\n",
    "\n",
    "new_df = pd.DataFrame(new_data, columns=[\"size\", \"amount\"])\n",
    "\n",
    "new_df.plot(x=\"amount\", y=\"size\", kind='scatter')\n",
    "plt.show()"
   ]
  },
  {
   "cell_type": "code",
   "execution_count": null,
   "metadata": {},
   "outputs": [],
   "source": []
  }
 ],
 "metadata": {
  "kernelspec": {
   "display_name": "Python 2",
   "language": "python",
   "name": "python2"
  },
  "language_info": {
   "codemirror_mode": {
    "name": "ipython",
    "version": 2
   },
   "file_extension": ".py",
   "mimetype": "text/x-python",
   "name": "python",
   "nbconvert_exporter": "python",
   "pygments_lexer": "ipython2",
   "version": "2.7.15"
  }
 },
 "nbformat": 4,
 "nbformat_minor": 2
}
