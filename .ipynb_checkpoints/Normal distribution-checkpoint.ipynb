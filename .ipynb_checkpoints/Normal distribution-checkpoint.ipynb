{
 "cells": [
  {
   "cell_type": "markdown",
   "metadata": {},
   "source": [
    "# Normal distribution worksheet\n",
    "[Link](http://teachers.dadeschools.net/sdaniel/worksheet%20normal%20distributions.pdf)\n",
    "\n",
    "[Z Table](https://www.ztable.net/)"
   ]
  },
  {
   "cell_type": "markdown",
   "metadata": {},
   "source": [
    "Former ISU basketball player Kelvin Cato is 83 inches tall. Assuming that heights follow approxi-mately a normal distribution with mean 70 and standard deviation σ= 3\n",
    " \n",
    "1. what is his correspondingz-score?\n",
    "2. what proportion of men are taller than him?"
   ]
  },
  {
   "cell_type": "code",
   "execution_count": 25,
   "metadata": {},
   "outputs": [
    {
     "name": "stdout",
     "output_type": "stream",
     "text": [
      "('z_score:', 4.333333333333333)\n"
     ]
    }
   ],
   "source": [
    "from __future__ import division\n",
    "\n",
    "# mean = 70\n",
    "# standard_d = 3\n",
    "\n",
    "# avg_height = 83\n",
    "\n",
    "def z_score(mean, std, height):\n",
    "    return (height - mean) / std\n",
    "\n",
    "# 1\n",
    "print(\"z_score:\", z_score(70, 3, 83))\n",
    "\n",
    "# 2\n",
    "# He's tall af (taller than 99.9%)"
   ]
  },
  {
   "cell_type": "markdown",
   "metadata": {},
   "source": [
    "Since the length of a downhill ski is related to the height of the individuals renting them, it is fair to assume that a normal distribution would describe the length of women’s skis at rental outlets in Colorado. The mean of the distribution is 150 cm and the standard deviation is 10 cm.\n",
    "\n",
    "1. What is the proportion of women’s ski lengths that are less than 130 cm?\n",
    "1. What is the proportion of women’s ski lengths that are greater than 125 cm?\n",
    "1. What is the proportion of women’s ski lengths that are between 125 and 155?\n",
    "1. Very long skies are expensive and there are not many people who rent them. What is the longest women’s ski a rental shop should carry so that only 2 percent of the costumers will ask to rent a longer ski?"
   ]
  },
  {
   "cell_type": "code",
   "execution_count": 9,
   "metadata": {},
   "outputs": [
    {
     "data": {
      "text/plain": [
       "-2.0"
      ]
     },
     "execution_count": 9,
     "metadata": {},
     "output_type": "execute_result"
    }
   ],
   "source": [
    "# 1\n",
    "z_score(150, 10, 130)\n"
   ]
  },
  {
   "cell_type": "code",
   "execution_count": 10,
   "metadata": {},
   "outputs": [
    {
     "data": {
      "text/plain": [
       "-2.5"
      ]
     },
     "execution_count": 10,
     "metadata": {},
     "output_type": "execute_result"
    }
   ],
   "source": [
    "# 2\n",
    "z_score(150, 10, 125)"
   ]
  },
  {
   "cell_type": "code",
   "execution_count": 16,
   "metadata": {},
   "outputs": [
    {
     "name": "stdout",
     "output_type": "stream",
     "text": [
      "3.0\n"
     ]
    }
   ],
   "source": [
    "# 3\n",
    "print(float(z_score(150, 10, 155) - z_score(150, 10, 125)))"
   ]
  },
  {
   "cell_type": "code",
   "execution_count": 27,
   "metadata": {},
   "outputs": [
    {
     "data": {
      "text/plain": [
       "170.6"
      ]
     },
     "execution_count": 27,
     "metadata": {},
     "output_type": "execute_result"
    }
   ],
   "source": [
    "# 4 \n",
    "def percentile(mean, z_score, std):\n",
    "    return mean + (z_score * std)\n",
    "\n",
    "# 2.06 Z_Score (Looked up on Z Table)\n",
    "percentile(150, 2.06, 10)\n"
   ]
  },
  {
   "cell_type": "markdown",
   "metadata": {},
   "source": [
    " The BMI for males age 20 to 74 is follows approximately a normal distribution with mean µ = 27.9 and standard deviation σ = 7.8. Use the 68-95-99.7 rule to find\n",
    "\n",
    "1. the percentage of males with BMI less than 20.1.\n",
    "1. the percentages of males with BMI greater than 12.3.\n",
    "1. the BMI values that correspond to the middle 99.7% of the distribution.\n",
    "1. the value such that 0.15% of males have BMI’s greater than the value. "
   ]
  },
  {
   "cell_type": "code",
   "execution_count": 35,
   "metadata": {},
   "outputs": [],
   "source": [
    "# 1\n",
    "# 20.1 is one std away\n",
    "# 100 - 68 = 32\n",
    "# 32 / 2\n",
    "# 16"
   ]
  },
  {
   "cell_type": "code",
   "execution_count": 37,
   "metadata": {},
   "outputs": [],
   "source": [
    "# 2 \n",
    "# 100 - 95\n",
    "# 5 / 2\n",
    "# 100 - 2.5\n",
    "# 97.5"
   ]
  },
  {
   "cell_type": "code",
   "execution_count": 38,
   "metadata": {},
   "outputs": [],
   "source": [
    "# 3\n",
    "# 27.9"
   ]
  },
  {
   "cell_type": "code",
   "execution_count": 39,
   "metadata": {},
   "outputs": [],
   "source": [
    "# 4\n",
    "# 51.3"
   ]
  }
 ],
 "metadata": {
  "kernelspec": {
   "display_name": "Python 2",
   "language": "python",
   "name": "python2"
  },
  "language_info": {
   "codemirror_mode": {
    "name": "ipython",
    "version": 2
   },
   "file_extension": ".py",
   "mimetype": "text/x-python",
   "name": "python",
   "nbconvert_exporter": "python",
   "pygments_lexer": "ipython2",
   "version": "2.7.15"
  }
 },
 "nbformat": 4,
 "nbformat_minor": 2
}
